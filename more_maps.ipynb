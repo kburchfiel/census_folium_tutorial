{
 "cells": [
  {
   "cell_type": "markdown",
   "metadata": {},
   "source": [
    "## More maps!\n",
    "\n",
    "This is a notebook for generating additional maps. For explanations of how to use the functions shown below, visit census_folium_viewer.py and census_folium_tutorial_v5.ipynb (or a later version, if one exists)."
   ]
  },
  {
   "cell_type": "code",
   "execution_count": 1,
   "metadata": {},
   "outputs": [],
   "source": [
    "import time\n",
    "start_time = time.time()\n",
    "import census_folium_viewer\n",
    "import geopandas\n",
    "import numpy as np\n",
    "import pandas as pd\n",
    "import folium"
   ]
  },
  {
   "cell_type": "code",
   "execution_count": null,
   "metadata": {},
   "outputs": [],
   "source": [
    "zip_and_census_table = geopandas.read_file('zip_and_census_table.geojson')\n",
    "zip_and_census_table = zip_and_census_table.query(\"State != 72\")\n",
    "\n",
    "county_and_census_table = geopandas.read_file('county_and_census_table.geojson')\n",
    "county_and_census_table = county_and_census_table.query(\"State != 72\")\n",
    "\n",
    "state_and_census_table = geopandas.read_file('state_and_census_table.geojson')\n",
    "state_and_census_table = state_and_census_table.query(\"NAME != 'Puerto Rico'\")"
   ]
  },
  {
   "cell_type": "code",
   "execution_count": null,
   "metadata": {},
   "outputs": [],
   "source": [
    "state_and_census_table.columns # Shows the variables available within the three\n",
    "# .geojson files uploaded above for mapping. The variables at the end of the\n",
    "# document are particularly useful as they contain proportional (rather than\n",
    "# simply nominal) data."
   ]
  },
  {
   "cell_type": "markdown",
   "metadata": {},
   "source": [
    "Comparing poverty rates among children in married-couple families and those in female-householder families (with no spouse present).\n",
    "Note: I chose to compare married-couple families to female-householder-only families because there often weren't many male-householder-only families present."
   ]
  },
  {
   "cell_type": "code",
   "execution_count": null,
   "metadata": {},
   "outputs": [],
   "source": [
    "state_pct_children_in_mcf_below_pl_map = census_folium_viewer.generate_map(\n",
    "    merged_data_table = state_and_census_table,\n",
    "    shape_feature_name = 'NAME',\n",
    "    data_variable = 'Proportion_of_children_in_married_couple_families_below_poverty_level', \n",
    "    feature_text = 'State', \n",
    "    data_variable_text = '% of children in married-couple families below \\\n",
    "poverty level', \n",
    "    map_name = 'state_pct_children_in_mcf_below_pl', \n",
    "    html_save_path = r'C:\\Users\\kburc\\D1V1\\Documents\\!Dell64docs\\Programming\\py\\kjb3_programs\\census_folium_tutorial',\n",
    "    screenshot_save_path = 'census_folium_map_screenshots', \n",
    "    popup_variable_text = 'Percentage', fill_color = 'Blues', \n",
    "    rows_to_map = 0, bin_type = 'percentiles', bin_count = 8, \n",
    "    multiply_data_by = 100,\n",
    "    variable_decimals = 2, vertical_legend = True)"
   ]
  },
  {
   "cell_type": "code",
   "execution_count": null,
   "metadata": {},
   "outputs": [],
   "source": [
    "state_pct_children_in_fcf_below_poverty_level = census_folium_viewer.generate_map(\n",
    "    merged_data_table = state_and_census_table,\n",
    "    shape_feature_name = 'NAME',\n",
    "    data_variable = 'Proportion_of_children_in_female_householder_families_below_poverty_level', \n",
    "    feature_text = 'State', \n",
    "    data_variable_text = '% of children in female-householder families (with \\\n",
    "no spouse present) below poverty level', \n",
    "    map_name = 'state_pct_children_in_fhf_below_pl', \n",
    "    html_save_path = r'C:\\Users\\kburc\\D1V1\\Documents\\!Dell64docs\\Programming\\py\\kjb3_programs\\census_folium_tutorial',\n",
    "    screenshot_save_path = 'census_folium_map_screenshots', \n",
    "    popup_variable_text = 'Percentage', fill_color = 'Blues', \n",
    "    rows_to_map = 0, bin_type = 'percentiles', bin_count = 8, \n",
    "    multiply_data_by = 100,\n",
    "    variable_decimals = 2, vertical_legend = True)"
   ]
  },
  {
   "cell_type": "markdown",
   "metadata": {},
   "source": [
    "Mapping the proportion of state, county, and zip-code residents (25+ years old) with a bachelor's degree or higher"
   ]
  },
  {
   "cell_type": "code",
   "execution_count": null,
   "metadata": {},
   "outputs": [],
   "source": [
    "state_residents_with_bachelors_or_higher = census_folium_viewer.generate_map(\n",
    "    merged_data_table = state_and_census_table,\n",
    "    shape_feature_name = 'NAME',\n",
    "    data_variable = \"Proportion_of_individuals_25+_y/o_whose_highest_education_level_=_bachelor's_degree_or_higher\", \n",
    "    feature_text = 'State', \n",
    "    data_variable_text = \"% of individuals at least 25 years old whose highest \\\n",
    "education level is a bachelor's degree or higher\", \n",
    "    map_name = 'state_pct_with_bachelors_or_higher', \n",
    "    html_save_path = r'C:\\Users\\kburc\\D1V1\\Documents\\!Dell64docs\\Programming\\py\\kjb3_programs\\census_folium_tutorial',\n",
    "    screenshot_save_path = 'census_folium_map_screenshots', \n",
    "    popup_variable_text = 'Percentage', fill_color = 'PuOr', \n",
    "    rows_to_map = 0, bin_type = 'percentiles', bin_count = 8, \n",
    "    multiply_data_by = 100,\n",
    "    variable_decimals = 2, vertical_legend = True)"
   ]
  },
  {
   "cell_type": "code",
   "execution_count": null,
   "metadata": {},
   "outputs": [],
   "source": [
    "county_residents_with_bachelors_or_higher = census_folium_viewer.generate_map(\n",
    "    merged_data_table = county_and_census_table,\n",
    "    shape_feature_name = 'County',\n",
    "    data_variable = \"Proportion_of_individuals_25+_y/o_whose_highest_education_level_=_bachelor's_degree_or_higher\", \n",
    "    feature_text = 'County', \n",
    "    data_variable_text = \"% of individuals at least 25 years old whose highest \\\n",
    "education level is a bachelor's degree or higher\", \n",
    "    map_name = 'county_pct_with_bachelors_or_higher', \n",
    "    html_save_path = r'C:\\Users\\kburc\\D1V1\\Documents\\!Dell64docs\\Programming\\py\\kjb3_programs\\census_folium_tutorial',\n",
    "    screenshot_save_path = 'census_folium_map_screenshots', \n",
    "    popup_variable_text = 'Percentage', fill_color = 'PuOr', \n",
    "    rows_to_map = 0, bin_type = 'percentiles', bin_count = 8, \n",
    "    multiply_data_by = 100,\n",
    "    variable_decimals = 2, vertical_legend = True)"
   ]
  },
  {
   "cell_type": "code",
   "execution_count": null,
   "metadata": {},
   "outputs": [],
   "source": [
    "zip_residents_with_bachelors_or_higher = census_folium_viewer.generate_map(\n",
    "    merged_data_table = zip_and_census_table,\n",
    "    shape_feature_name = 'ZCTA5CE20',\n",
    "    data_variable = \"Proportion_of_individuals_25+_y/o_whose_highest_education_level_=_bachelor's_degree_or_higher\", \n",
    "    feature_text = 'zip', \n",
    "    data_variable_text = \"% of individuals at least 25 years old whose highest \\\n",
    "education level is a bachelor's degree or higher\", \n",
    "    map_name = 'zip_pct_with_bachelors_or_higher', \n",
    "    html_save_path = r'C:\\Users\\kburc\\D1V1\\Documents\\!Dell64docs\\Programming\\py\\kjb3_programs\\census_folium_tutorial',\n",
    "    screenshot_save_path = 'census_folium_map_screenshots', \n",
    "    popup_variable_text = 'Percentage', fill_color = 'PuOr', \n",
    "    rows_to_map = 0, bin_type = 'percentiles', bin_count = 8, \n",
    "    multiply_data_by = 100,\n",
    "    variable_decimals = 2, vertical_legend = True)"
   ]
  },
  {
   "cell_type": "code",
   "execution_count": null,
   "metadata": {},
   "outputs": [],
   "source": [
    "end_time = time.time()\n",
    "run_time = end_time - start_time\n",
    "run_minutes = run_time // 60\n",
    "run_seconds = run_time % 60\n",
    "print(\"Completed run at\",time.ctime(end_time),\"(local time)\")\n",
    "print(\"Total run time:\",'{:.2f}'.format(run_time),\n",
    "\"second(s) (\"+str(run_minutes),\"minute(s) and\",'{:.2f}'.format(run_seconds),\n",
    "\"second(s))\") \n",
    "# Only meaningful when the program is run nonstop from start to finish"
   ]
  }
 ],
 "metadata": {
  "interpreter": {
   "hash": "7a016a462c2a18f177a2554c94a9e2d8b52c0ae6e623363f8138b3d5b2656021"
  },
  "kernelspec": {
   "display_name": "Python 3.9.5 64-bit (system)",
   "language": "python",
   "name": "python3"
  },
  "language_info": {
   "codemirror_mode": {
    "name": "ipython",
    "version": 3
   },
   "file_extension": ".py",
   "mimetype": "text/x-python",
   "name": "python",
   "nbconvert_exporter": "python",
   "pygments_lexer": "ipython3",
   "version": "3.9.5"
  },
  "orig_nbformat": 4
 },
 "nbformat": 4,
 "nbformat_minor": 2
}
