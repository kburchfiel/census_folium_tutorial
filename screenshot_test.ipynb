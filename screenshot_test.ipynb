{
 "cells": [
  {
   "cell_type": "code",
   "execution_count": 1,
   "metadata": {},
   "outputs": [
    {
     "name": "stdout",
     "output_type": "stream",
     "text": [
      "{'width': 3000, 'height': 1687}\n"
     ]
    }
   ],
   "source": [
    "window_width = 3000 # This produces a large window that can better\n",
    "# capture small details (such as zip code shapefiles).\n",
    "window_height = window_width * 9/16\n",
    "\n",
    "# Source of much of the following code:\n",
    "# https://www.selenium.dev/documentation/webdriver/drivers/options/\n",
    "from selenium import webdriver\n",
    "from selenium.webdriver.chrome.options import Options\n",
    "from selenium.webdriver import ActionChains\n",
    "from selenium.webdriver.common.by import By\n",
    "options = Options()\n",
    "# The following two lines come from user 'undetected Selenium' at:\n",
    "# # Based on https://stackoverflow.com/a/55016352/13097194\n",
    "options.add_argument(\"--headless\") # This ended up being necessary\n",
    "# in order to set the width and height (as verified by get_window_size()\n",
    "# below() equal to window_width and window_height. Without headless\n",
    "# mode, the window ended up being significantly smaller.)\n",
    "# options.add_argument(f\"window-size={window_width},{window_height}\")\n",
    "ff_driver = webdriver.Chrome(options=options)\n",
    "ff_driver.set_window_size(window_width,window_width*(9/16))\n",
    "# Based on https://stackoverflow.com/a/55016352/13097194\n",
    "print(ff_driver.get_window_size())\n",
    "import time"
   ]
  },
  {
   "cell_type": "code",
   "execution_count": 2,
   "metadata": {},
   "outputs": [],
   "source": [
    "# See https://www.selenium.dev/documentation/webdriver/getting_started/open_browser/\n",
    "# For more information on using Selenium to get screenshots of .html \n",
    "# files, see my get_screenshots.ipynb file within my route_maps_builder\n",
    "# program, available here:\n",
    "# https://github.com/kburchfiel/route_maps_builder/blob/master/get_screenshots.ipynb\n",
    "\n",
    "# ActionChains(ff_driver).scroll_by_amount(0, 10).perform()\n",
    "# See https://www.selenium.dev/documentation/webdriver/actions_api/wheel/\n",
    "# Raises AttributeError: 'ActionChains' object has no attribute 'scroll_by_amount'\n",
    "\n",
    "ff_driver.get(r'C:\\Users\\kburc\\D1V1\\Documents\\!Dell64docs\\Programming\\py\\kjb3_programs\\census_folium_tutorial\\census_folium_maps\\state_median_hh_income_acs5_2021.html') \n",
    "# See https://www.selenium.dev/documentation/webdriver/browser/navigation/\n",
    "\n",
    "time.sleep(2) # This gives the page sufficient\n",
    "# time to load the map tiles before the screenshot is taken. \n",
    "# You can also experiment with longer sleep times.\n",
    "\n"
   ]
  },
  {
   "cell_type": "code",
   "execution_count": 3,
   "metadata": {},
   "outputs": [],
   "source": [
    "# I experimented with zooming into the map with a larger window in order to \n",
    "# produce a higher-resolution graphic. The following method does successfully zoom in, but it causes the legend\n",
    "# to be too small to read.\n",
    "# zoom_in_button = ff_driver.find_element(By.CLASS_NAME, 'leaflet-control-zoom-in')\n",
    "# # Based on https://selenium-python.readthedocs.io/locating-elements.html\n",
    "# zoom_in_button.click() # https://selenium-python.readthedocs.io/navigating.html"
   ]
  },
  {
   "cell_type": "code",
   "execution_count": 4,
   "metadata": {},
   "outputs": [],
   "source": [
    " screenshot_image = ff_driver.get_screenshot_as_file(\n",
    "            'test_screenshot.png') "
   ]
  },
  {
   "cell_type": "code",
   "execution_count": 5,
   "metadata": {},
   "outputs": [],
   "source": [
    "ff_driver.quit()"
   ]
  }
 ],
 "metadata": {
  "kernelspec": {
   "display_name": "ga15pyd",
   "language": "python",
   "name": "python3"
  },
  "language_info": {
   "codemirror_mode": {
    "name": "ipython",
    "version": 3
   },
   "file_extension": ".py",
   "mimetype": "text/x-python",
   "name": "python",
   "nbconvert_exporter": "python",
   "pygments_lexer": "ipython3",
   "version": "3.10.9"
  },
  "orig_nbformat": 4
 },
 "nbformat": 4,
 "nbformat_minor": 2
}
