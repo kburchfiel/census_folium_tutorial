{
 "cells": [
  {
   "cell_type": "markdown",
   "metadata": {},
   "source": [
    "# Census Folium Tutorial\n",
    "\n",
    "## Kenneth Burchfiel\n",
    "\n",
    "Released under the MIT license"
   ]
  },
  {
   "cell_type": "markdown",
   "metadata": {},
   "source": [
    "This tutorial demonstrates how to use the functions in census_folium_viewer.py to generate interactive zip-, county-, and state-level choropleth maps based on census data and shapefiles from the US Census Bureau. Within the tutorial, I will generate maps of two data types: (1) median household income and (2) the percentage of households that consist of a married couple with at least one child below the age of 18.\n",
    "\n",
    "The tutorial also demonstrates how to incorporate a custom vertical legend into Folium maps. These have advantages over the default horizontal legend in certain circumstances.\n",
    "\n",
    "**Note**: Some files in this project (such as the zip-code-level HTML maps) were too large to upload to GitHub. You can instead access those files via the following Google Drive folder: https://drive.google.com/drive/folders/11h1jnaVOA5A6ubbOJnC-kPEvdnJU00yv?usp=sharing\n",
    "\n",
    "\n",
    "Citation info for color_schemes_from_branca.json:\n",
    "\n",
    "Source: https://github.com/python-visualization/branca/blob/master/branca/_schemes.json\n",
    "\n",
    "I believe these schemes were originally created by Cynthia Brewer, and are licensed under the Apache License, Version 2.0. See http://www.personal.psu.edu/cab38/ColorBrewer/ColorBrewer_updates.html"
   ]
  },
  {
   "cell_type": "markdown",
   "metadata": {},
   "source": [
    "## Preliminary steps\n",
    "\n",
    "First, you'll need to download zip code, county, and state shapefiles from the US Census bureau: https://www.census.gov/geographies/mapping-files/time-series/geo/tiger-line-file.html\n",
    "\n",
    "I used 2020 zip code shapefiles for this project, which are available here: https://www.census.gov/cgi-bin/geo/shapefiles/index.php?year=2020&layergroup=ZIP+Code+Tabulation+Areas\n",
    "\n",
    "See this note regarding use of the shapefiles: https://www2.census.gov/geo/pdfs/maps-data/data/tiger/tgrshp2021/TGRSHP2021_TechDoc_Ch1.pdf\n",
    "\n",
    "Once you download the shapefiles to your computer, extract them using an unzipping utility. The shapefile document within this unzipped folder ends in .shp; for the 2020 zip code data, the file name is tl_2020_us_zcta520.shp. \n",
    "\n",
    "It appears that the other files within this folder may also be used by Geopandas in the creation of GeoDataFrames, so I recommend accessing the file within the unzipped folder rather than copying it into your project folder.\n",
    "\n",
    "This project already contains zip-, county-, and state-level American Community Survey data (5-year estimates) for various demographic variables. I created these data files via my Census query tutorial available at https://github.com/kburchfiel/census_query_tutorial . \n"
   ]
  },
  {
   "cell_type": "code",
   "execution_count": null,
   "metadata": {},
   "outputs": [],
   "source": [
    "import time\n",
    "start_time = time.time()\n",
    "import census_folium_viewer\n",
    "import geopandas\n",
    "import numpy as np\n",
    "import pandas as pd\n",
    "import folium"
   ]
  },
  {
   "cell_type": "markdown",
   "metadata": {},
   "source": [
    "## Part 1: Zip Code-Level Maps"
   ]
  },
  {
   "cell_type": "markdown",
   "metadata": {},
   "source": [
    "The following code block uses census_folium_viewer.py's prepare_zip_table() function to create a GeoDataFrame storing both zip code and census data. It took 126.6 seconds for the function to create a table, whereas importing a saved version of this file took only 8.9 seconds. Therefore, to save time, I edited the code block so that it would only regenerate the GeoDataFrame if instructed to do so.\n",
    "\n",
    "I recommend reading the documentation in census_folium_viewer.py for prepare_zip_table so that you'll better understand the inputs used by this function.\n",
    "\n",
    "The zip code census data file only includes zip codes with at least 1,000 households, preventing outliers in the data related to low sample sizes."
   ]
  },
  {
   "cell_type": "code",
   "execution_count": null,
   "metadata": {},
   "outputs": [],
   "source": [
    "create_new_zip_census_table = False\n",
    "\n",
    "if create_new_zip_census_table == True:\n",
    "\n",
    "    zip_and_census_table = census_folium_viewer.prepare_zip_table(\n",
    "        shapefile_path = r'C:\\Users\\kburc\\Downloads\\tl_2020_us_zcta520\\tl_2020_us_zcta520.shp',\n",
    "        shape_feature_name = 'ZCTA5CE20', tolerance = 0.005, data_path =\n",
    "        'acs5_2019_zip_results_1k_plus_households.csv',\n",
    "        data_feature_name = 'NAME')\n",
    "    print(\"Exporting data:\")\n",
    "    zip_and_census_table.to_file('zip_and_census_table.geojson',\n",
    "    driver = 'GeoJSON') \n",
    "    # The above line exports the GeoDataFrame created by prepare_zip_table \n",
    "    # so that it can be imported back into the program, which takes less time\n",
    "    # than does recreating the GeoDataFrame."
   ]
  },
  {
   "cell_type": "markdown",
   "metadata": {},
   "source": [
    "After being stored within the project folder, this table gets re-read into Python. That way, the program will still function even if create_new_zip_census_table was set to false."
   ]
  },
  {
   "cell_type": "code",
   "execution_count": null,
   "metadata": {},
   "outputs": [],
   "source": [
    "zip_and_census_table = geopandas.read_file('zip_and_census_table.geojson')"
   ]
  },
  {
   "cell_type": "markdown",
   "metadata": {},
   "source": [
    "First, I will create a map displaying median household income by zip code. (Note: I will exclude Puerto Rico from these maps so as to focus on the 50 US states and DC. Puerto Rico has the code 72 in the 'state' column of the merged zip code data table, hence the use of zip_and_census_table.query(\"state != 72\") as the argument for the merged_data_table parameter.)\n",
    "\n",
    "If you haven't done so already, I highly recommend reading the documentation for generate_map so that you'll know what inputs are necessary for the function to run correctly."
   ]
  },
  {
   "cell_type": "code",
   "execution_count": null,
   "metadata": {},
   "outputs": [],
   "source": [
    "zip_and_census_table"
   ]
  },
  {
   "cell_type": "code",
   "execution_count": null,
   "metadata": {},
   "outputs": [],
   "source": [
    "zip_median_hh_income_map = census_folium_viewer.generate_map(\n",
    "    merged_data_table = zip_and_census_table.query(\"state != 72 & Median_household_income >= 0\"),\n",
    "    shape_feature_name = 'ZCTA5CE20',\n",
    "    data_variable = \"Median_household_income\", feature_text = 'Zip Code',\n",
    "    data_variable_text = 'Median Household Income',\n",
    "    popup_variable_text = 'Income', \n",
    "    variable_decimals = None,\n",
    "    map_name = 'zip_median_hh_income',\n",
    "    fill_color = 'RdYlGn',\n",
    "    html_save_path = r'C:\\Users\\kburc\\D1V1\\Documents\\!Dell64docs\\Programming\\py\\kjb3_programs\\census_folium_tutorial',\n",
    "    screenshot_save_path = 'census_folium_map_screenshots',\n",
    "    bin_type = 'percentiles', rows_to_map = 0, multiply_data_by = 1, \n",
    "    vertical_legend = True)\n"
   ]
  },
  {
   "cell_type": "code",
   "execution_count": null,
   "metadata": {},
   "outputs": [],
   "source": [
    "# zip_median_hh_income_map"
   ]
  },
  {
   "cell_type": "markdown",
   "metadata": {},
   "source": [
    "Next, I'll create a map showing the proportion of households in each zip code in the dataset that consist of a married couple with at least one child."
   ]
  },
  {
   "cell_type": "code",
   "execution_count": null,
   "metadata": {},
   "outputs": [],
   "source": [
    "zip_married_couples_with_children_map = census_folium_viewer.generate_map(\n",
    "    merged_data_table = zip_and_census_table.query(\"state != 72\"),\n",
    "    shape_feature_name = 'ZCTA5CE20',\n",
    "    data_variable = \"Married_couple_households_with_one_or_more_children_as_proportion_of_all_households\",\n",
    "    feature_text = 'Zip Code',\n",
    "    data_variable_text= '% of households that consist of a married couple \\\n",
    "with at least one child',\n",
    "    popup_variable_text = 'Percentage', \n",
    "    map_name = 'zip_married_couples_with_kids', fill_color = 'PuOr', \n",
    "    bin_count = 8,\n",
    "    html_save_path = r'C:\\Users\\kburc\\D1V1\\Documents\\!Dell64docs\\Programming\\py\\kjb3_programs\\census_folium_tutorial',\n",
    "    screenshot_save_path = 'census_folium_map_screenshots',\n",
    "    bin_type = 'percentiles', rows_to_map = 0, multiply_data_by = 100,\n",
    "    variable_decimals = 2, vertical_legend = True)"
   ]
  },
  {
   "cell_type": "code",
   "execution_count": null,
   "metadata": {},
   "outputs": [],
   "source": [
    "# zip_married_couples_with_children_map"
   ]
  },
  {
   "cell_type": "markdown",
   "metadata": {},
   "source": [
    "## Part 2: County-Level Maps\n",
    "\n",
    "The steps for generating county-level maps are similar. Note that the county census data file being imported only contains counties with at least 1,000 households."
   ]
  },
  {
   "cell_type": "code",
   "execution_count": null,
   "metadata": {},
   "outputs": [],
   "source": [
    "county_and_census_table = census_folium_viewer.prepare_county_table(\n",
    "    shapefile_path = r'C:\\Users\\kburc\\Downloads\\tl_2021_us_county\\tl_2021_us_county.shp',\n",
    "    shape_state_code_column = 'STATEFP', shape_county_code_column = 'COUNTYFP',\n",
    "    tolerance = 0.005,\n",
    "    data_path = 'acs5_2019_county_results_1k_plus_households.csv',\n",
    "    data_state_code_column = 'state', data_county_code_column = 'county')\n",
    "print(\"Exporting data:\")\n",
    "county_and_census_table.to_file('county_and_census_table.geojson',\n",
    "    driver = 'GeoJSON') "
   ]
  },
  {
   "cell_type": "code",
   "execution_count": null,
   "metadata": {},
   "outputs": [],
   "source": [
    "county_and_census_table"
   ]
  },
  {
   "cell_type": "code",
   "execution_count": null,
   "metadata": {},
   "outputs": [],
   "source": [
    "county_hh_income_map = census_folium_viewer.generate_map(\n",
    "    merged_data_table = county_and_census_table.query(\"state != 72 & Median_household_income >= 0\"), \n",
    "    shape_feature_name = 'NAME_y', # NAME_y is the copy of the 'NAME' column\n",
    "    # from the data table. It contains both county and state names.\n",
    "    data_variable = 'Median_household_income', feature_text = 'County',\n",
    "    data_variable_text = 'Median Household Income',\n",
    "    map_name = 'county_median_hh_income', \n",
    "    variable_decimals = None,\n",
    "    html_save_path = r'C:\\Users\\kburc\\D1V1\\Documents\\!Dell64docs\\Programming\\py\\kjb3_programs\\census_folium_tutorial',\n",
    "    screenshot_save_path = 'census_folium_map_screenshots',\n",
    "    popup_variable_text = 'Income', fill_color = 'RdYlGn', \n",
    "    rows_to_map = 0, bin_type = 'percentiles', multiply_data_by = 1, \n",
    "    vertical_legend = True)\n",
    "\n",
    "# county_hh_income_map"
   ]
  },
  {
   "cell_type": "code",
   "execution_count": null,
   "metadata": {},
   "outputs": [],
   "source": [
    "county_married_couples_with_children_map = census_folium_viewer.generate_map(\n",
    "    merged_data_table = county_and_census_table.query(\"state != 72\"),\n",
    "    shape_feature_name = 'NAME_y',\n",
    "    data_variable = 'Married_couple_households_with_one_or_more_children_as_proportion_of_all_households',\n",
    "    feature_text = 'County', data_variable_text = '% of households \\\n",
    "that consist of a married couple with at least one child', \n",
    "    map_name = 'county_married_couples_with_kids', \n",
    "    html_save_path = r'C:\\Users\\kburc\\D1V1\\Documents\\!Dell64docs\\Programming\\py\\kjb3_programs\\census_folium_tutorial', \n",
    "    screenshot_save_path = 'census_folium_map_screenshots', \n",
    "    popup_variable_text = 'Percentage', fill_color = 'PuOr', bin_count = 8,\n",
    "    rows_to_map = 0, bin_type = 'percentiles', multiply_data_by = 100,\n",
    "    variable_decimals = 2, vertical_legend = True)\n",
    "\n",
    "# county_married_couples_with_children_map"
   ]
  },
  {
   "cell_type": "markdown",
   "metadata": {},
   "source": [
    "# Part 3: State-Level Maps\n",
    "\n",
    "Finally, I'll create state-level maps of median household income and married-couple family prevalence."
   ]
  },
  {
   "cell_type": "code",
   "execution_count": null,
   "metadata": {},
   "outputs": [],
   "source": [
    "state_and_census_table = census_folium_viewer.prepare_state_table(\n",
    "    shapefile_path = r'C:\\Users\\kburc\\Downloads\\tl_2020_us_state\\tl_2020_us_state.shp', \n",
    "    shape_feature_name = 'NAME', tolerance = 0.005, data_path = \n",
    "    'acs5_2019_state_results.csv', data_feature_name = 'NAME')\n",
    "print(\"Exporting data:\")\n",
    "state_and_census_table.to_file('state_and_census_table.geojson',\n",
    "driver = 'GeoJSON') "
   ]
  },
  {
   "cell_type": "code",
   "execution_count": null,
   "metadata": {},
   "outputs": [],
   "source": [
    "state_and_census_table"
   ]
  },
  {
   "cell_type": "code",
   "execution_count": null,
   "metadata": {},
   "outputs": [],
   "source": [
    "state_married_couples_with_children_map = census_folium_viewer.generate_map(\n",
    "    merged_data_table = state_and_census_table.query(\"NAME != 'Puerto Rico'\"),\n",
    "    shape_feature_name = 'NAME',\n",
    "    data_variable = 'Married_couple_households_with_one_or_more_children_as_proportion_of_all_households', \n",
    "    feature_text = 'State', \n",
    "    data_variable_text = '% of households that consist of a married \\\n",
    "couple with at least one child', \n",
    "    map_name = 'state_married_couples_with_kids', \n",
    "    html_save_path = r'C:\\Users\\kburc\\D1V1\\Documents\\!Dell64docs\\Programming\\py\\kjb3_programs\\census_folium_tutorial',\n",
    "    screenshot_save_path = 'census_folium_map_screenshots', \n",
    "    popup_variable_text = 'Percentage', fill_color = 'PuOr', \n",
    "    rows_to_map = 0, bin_type = 'percentiles', bin_count = 8, \n",
    "    multiply_data_by = 100,\n",
    "    variable_decimals = 2, vertical_legend = True)"
   ]
  },
  {
   "cell_type": "code",
   "execution_count": null,
   "metadata": {},
   "outputs": [],
   "source": [
    "state_median_hh_income_map = census_folium_viewer.generate_map(\n",
    "    merged_data_table = state_and_census_table.query(\"state != 72 & Median_household_income >= 0\"), shape_feature_name = 'NAME',\n",
    "    data_variable = 'Median_household_income', feature_text = 'State', \n",
    "    data_variable_text = 'Median Household Income', \n",
    "    map_name = 'state_median_hh_income', \n",
    "    variable_decimals = None,\n",
    "    html_save_path = r'C:\\Users\\kburc\\D1V1\\Documents\\!Dell64docs\\Programming\\py\\kjb3_programs\\census_folium_tutorial', \n",
    "    screenshot_save_path = 'census_folium_map_screenshots', \n",
    "    popup_variable_text = 'Income', fill_color = 'RdYlGn', \n",
    "    rows_to_map = 0, bin_count = 8,\n",
    "    bin_type = 'percentiles', multiply_data_by = 1, vertical_legend = True, \n",
    "    generate_image = True)"
   ]
  },
  {
   "cell_type": "code",
   "execution_count": null,
   "metadata": {},
   "outputs": [],
   "source": [
    "end_time = time.time()\n",
    "run_time = end_time - start_time\n",
    "run_minutes = run_time // 60\n",
    "run_seconds = run_time % 60\n",
    "print(\"Completed run at\",time.ctime(end_time),\"(local time)\")\n",
    "print(\"Total run time:\",'{:.2f}'.format(run_time),\n",
    "\"second(s) (\"+str(run_minutes),\"minute(s) and\",'{:.2f}'.format(run_seconds),\n",
    "\"second(s))\") \n",
    "# Only meaningful when the program is run nonstop from start to finish"
   ]
  }
 ],
 "metadata": {
  "interpreter": {
   "hash": "7a016a462c2a18f177a2554c94a9e2d8b52c0ae6e623363f8138b3d5b2656021"
  },
  "kernelspec": {
   "display_name": "Python 3.9.5 64-bit ('ga15pyd': conda)",
   "language": "python",
   "name": "python3"
  },
  "language_info": {
   "codemirror_mode": {
    "name": "ipython",
    "version": 3
   },
   "file_extension": ".py",
   "mimetype": "text/x-python",
   "name": "python",
   "nbconvert_exporter": "python",
   "pygments_lexer": "ipython3",
   "version": "3.10.4"
  },
  "orig_nbformat": 4
 },
 "nbformat": 4,
 "nbformat_minor": 2
}
